{
 "cells": [
  {
   "cell_type": "code",
   "execution_count": 1,
   "metadata": {},
   "outputs": [
    {
     "name": "stdout",
     "output_type": "stream",
     "text": [
      "Setup Complete\n"
     ]
    }
   ],
   "source": [
    "import pandas as pd\n",
    "import numpy as np\n",
    "pd.plotting.register_matplotlib_converters()\n",
    "import matplotlib.pyplot as plt\n",
    "%matplotlib inline\n",
    "import seaborn as sns\n",
    "\n",
    "from sklearn.model_selection import train_test_split\n",
    "from sklearn.linear_model import LinearRegression\n",
    "print(\"Setup Complete\")"
   ]
  },
  {
   "cell_type": "code",
   "execution_count": 2,
   "metadata": {},
   "outputs": [
    {
     "data": {
      "text/html": [
       "<div>\n",
       "<style scoped>\n",
       "    .dataframe tbody tr th:only-of-type {\n",
       "        vertical-align: middle;\n",
       "    }\n",
       "\n",
       "    .dataframe tbody tr th {\n",
       "        vertical-align: top;\n",
       "    }\n",
       "\n",
       "    .dataframe thead th {\n",
       "        text-align: right;\n",
       "    }\n",
       "</style>\n",
       "<table border=\"1\" class=\"dataframe\">\n",
       "  <thead>\n",
       "    <tr style=\"text-align: right;\">\n",
       "      <th></th>\n",
       "      <th>Rank</th>\n",
       "      <th>Title</th>\n",
       "      <th>Artists</th>\n",
       "      <th>Date</th>\n",
       "      <th>Danceability</th>\n",
       "      <th>Energy</th>\n",
       "      <th>Loudness</th>\n",
       "      <th>Speechiness</th>\n",
       "      <th>Acousticness</th>\n",
       "      <th>Instrumentalness</th>\n",
       "      <th>Valence</th>\n",
       "      <th># of Artist</th>\n",
       "      <th>Artist (Ind.)</th>\n",
       "      <th># of Nationality</th>\n",
       "      <th>Nationality</th>\n",
       "      <th>Continent</th>\n",
       "      <th>Points (Total)</th>\n",
       "      <th>Points (Ind for each Artist/Nat)</th>\n",
       "      <th>id</th>\n",
       "      <th>Song URL</th>\n",
       "    </tr>\n",
       "  </thead>\n",
       "  <tbody>\n",
       "    <tr>\n",
       "      <th>0</th>\n",
       "      <td>1</td>\n",
       "      <td>Ella Baila Sola</td>\n",
       "      <td>Eslabon Armado, Peso Pluma</td>\n",
       "      <td>2023-05-29</td>\n",
       "      <td>0.668</td>\n",
       "      <td>0.758</td>\n",
       "      <td>-5176.0</td>\n",
       "      <td>0.033</td>\n",
       "      <td>0.483</td>\n",
       "      <td>0.000</td>\n",
       "      <td>0.834</td>\n",
       "      <td>Artist 1</td>\n",
       "      <td>Eslabon Armado</td>\n",
       "      <td>Nationality 1</td>\n",
       "      <td>Mexico</td>\n",
       "      <td>Latin-America</td>\n",
       "      <td>200</td>\n",
       "      <td>100.0</td>\n",
       "      <td>3qQbCzHBycnDpGskqOWY0E</td>\n",
       "      <td>https://open.spotify.com/track/3qQbCzHBycnDpGs...</td>\n",
       "    </tr>\n",
       "    <tr>\n",
       "      <th>1</th>\n",
       "      <td>1</td>\n",
       "      <td>Ella Baila Sola</td>\n",
       "      <td>Eslabon Armado, Peso Pluma</td>\n",
       "      <td>2023-05-29</td>\n",
       "      <td>0.668</td>\n",
       "      <td>0.758</td>\n",
       "      <td>-5176.0</td>\n",
       "      <td>0.033</td>\n",
       "      <td>0.483</td>\n",
       "      <td>0.000</td>\n",
       "      <td>0.834</td>\n",
       "      <td>Artist 2</td>\n",
       "      <td>Peso Pluma</td>\n",
       "      <td>Nationality 2</td>\n",
       "      <td>Mexico</td>\n",
       "      <td>Latin-America</td>\n",
       "      <td>200</td>\n",
       "      <td>100.0</td>\n",
       "      <td>3qQbCzHBycnDpGskqOWY0E</td>\n",
       "      <td>https://open.spotify.com/track/3qQbCzHBycnDpGs...</td>\n",
       "    </tr>\n",
       "    <tr>\n",
       "      <th>2</th>\n",
       "      <td>2</td>\n",
       "      <td>WHERE SHE GOES</td>\n",
       "      <td>Bad Bunny</td>\n",
       "      <td>2023-05-29</td>\n",
       "      <td>0.652</td>\n",
       "      <td>0.800</td>\n",
       "      <td>-4019.0</td>\n",
       "      <td>0.061</td>\n",
       "      <td>0.143</td>\n",
       "      <td>0.629</td>\n",
       "      <td>0.234</td>\n",
       "      <td>Artist 1</td>\n",
       "      <td>Bad Bunny</td>\n",
       "      <td>Nationality 1</td>\n",
       "      <td>Puerto Rico</td>\n",
       "      <td>Latin-America</td>\n",
       "      <td>199</td>\n",
       "      <td>199.0</td>\n",
       "      <td>7ro0hRteUMfnOioTFI5TG1</td>\n",
       "      <td>https://open.spotify.com/track/7ro0hRteUMfnOio...</td>\n",
       "    </tr>\n",
       "    <tr>\n",
       "      <th>3</th>\n",
       "      <td>3</td>\n",
       "      <td>La Bebe - Remix</td>\n",
       "      <td>Yng Lvcas, Peso Pluma</td>\n",
       "      <td>2023-05-29</td>\n",
       "      <td>0.812</td>\n",
       "      <td>0.479</td>\n",
       "      <td>-5678.0</td>\n",
       "      <td>0.333</td>\n",
       "      <td>0.213</td>\n",
       "      <td>0.000</td>\n",
       "      <td>0.559</td>\n",
       "      <td>Artist 1</td>\n",
       "      <td>Yng Lvcas</td>\n",
       "      <td>Nationality 1</td>\n",
       "      <td>Mexico</td>\n",
       "      <td>Latin-America</td>\n",
       "      <td>198</td>\n",
       "      <td>99.0</td>\n",
       "      <td>2UW7JaomAMuX9pZrjVpHAU</td>\n",
       "      <td>https://open.spotify.com/track/2UW7JaomAMuX9pZ...</td>\n",
       "    </tr>\n",
       "    <tr>\n",
       "      <th>4</th>\n",
       "      <td>3</td>\n",
       "      <td>La Bebe - Remix</td>\n",
       "      <td>Yng Lvcas, Peso Pluma</td>\n",
       "      <td>2023-05-29</td>\n",
       "      <td>0.812</td>\n",
       "      <td>0.479</td>\n",
       "      <td>-5678.0</td>\n",
       "      <td>0.333</td>\n",
       "      <td>0.213</td>\n",
       "      <td>0.000</td>\n",
       "      <td>0.559</td>\n",
       "      <td>Artist 2</td>\n",
       "      <td>Peso Pluma</td>\n",
       "      <td>Nationality 2</td>\n",
       "      <td>Mexico</td>\n",
       "      <td>Latin-America</td>\n",
       "      <td>198</td>\n",
       "      <td>99.0</td>\n",
       "      <td>2UW7JaomAMuX9pZrjVpHAU</td>\n",
       "      <td>https://open.spotify.com/track/2UW7JaomAMuX9pZ...</td>\n",
       "    </tr>\n",
       "  </tbody>\n",
       "</table>\n",
       "</div>"
      ],
      "text/plain": [
       "   Rank            Title                     Artists       Date  Danceability  \\\n",
       "0     1  Ella Baila Sola  Eslabon Armado, Peso Pluma 2023-05-29         0.668   \n",
       "1     1  Ella Baila Sola  Eslabon Armado, Peso Pluma 2023-05-29         0.668   \n",
       "2     2   WHERE SHE GOES                   Bad Bunny 2023-05-29         0.652   \n",
       "3     3  La Bebe - Remix       Yng Lvcas, Peso Pluma 2023-05-29         0.812   \n",
       "4     3  La Bebe - Remix       Yng Lvcas, Peso Pluma 2023-05-29         0.812   \n",
       "\n",
       "   Energy  Loudness  Speechiness  Acousticness  Instrumentalness  Valence  \\\n",
       "0   0.758   -5176.0        0.033         0.483             0.000    0.834   \n",
       "1   0.758   -5176.0        0.033         0.483             0.000    0.834   \n",
       "2   0.800   -4019.0        0.061         0.143             0.629    0.234   \n",
       "3   0.479   -5678.0        0.333         0.213             0.000    0.559   \n",
       "4   0.479   -5678.0        0.333         0.213             0.000    0.559   \n",
       "\n",
       "  # of Artist   Artist (Ind.) # of Nationality  Nationality      Continent  \\\n",
       "0    Artist 1  Eslabon Armado    Nationality 1       Mexico  Latin-America   \n",
       "1    Artist 2      Peso Pluma    Nationality 2       Mexico  Latin-America   \n",
       "2    Artist 1       Bad Bunny    Nationality 1  Puerto Rico  Latin-America   \n",
       "3    Artist 1       Yng Lvcas    Nationality 1       Mexico  Latin-America   \n",
       "4    Artist 2      Peso Pluma    Nationality 2       Mexico  Latin-America   \n",
       "\n",
       "   Points (Total)  Points (Ind for each Artist/Nat)                      id  \\\n",
       "0             200                             100.0  3qQbCzHBycnDpGskqOWY0E   \n",
       "1             200                             100.0  3qQbCzHBycnDpGskqOWY0E   \n",
       "2             199                             199.0  7ro0hRteUMfnOioTFI5TG1   \n",
       "3             198                              99.0  2UW7JaomAMuX9pZrjVpHAU   \n",
       "4             198                              99.0  2UW7JaomAMuX9pZrjVpHAU   \n",
       "\n",
       "                                            Song URL  \n",
       "0  https://open.spotify.com/track/3qQbCzHBycnDpGs...  \n",
       "1  https://open.spotify.com/track/3qQbCzHBycnDpGs...  \n",
       "2  https://open.spotify.com/track/7ro0hRteUMfnOio...  \n",
       "3  https://open.spotify.com/track/2UW7JaomAMuX9pZ...  \n",
       "4  https://open.spotify.com/track/2UW7JaomAMuX9pZ...  "
      ]
     },
     "execution_count": 2,
     "metadata": {},
     "output_type": "execute_result"
    }
   ],
   "source": [
    "spotify = pd.read_csv('./data/spotify_data/Spotify_Dataset_V3.csv', sep=';', parse_dates=['Date'], dayfirst=True)\n",
    "spotify.head()"
   ]
  },
  {
   "cell_type": "code",
   "execution_count": 3,
   "metadata": {},
   "outputs": [
    {
     "name": "stdout",
     "output_type": "stream",
     "text": [
      "39\n"
     ]
    }
   ],
   "source": [
    "df1 = spotify[['Title', 'id']].drop_duplicates()\n",
    "df2 =spotify[['Title', 'id']].drop_duplicates(subset=['id'])\n",
    "Title1 = df1['Title'].values\n",
    "Title2 = df2['Title'].values\n",
    "dirty_data = np.setdiff1d(Title1, Title2, assume_unique=False)\n",
    "print(len(dirty_data))"
   ]
  },
  {
   "cell_type": "code",
   "execution_count": 4,
   "metadata": {},
   "outputs": [],
   "source": [
    "for title in dirty_data:\n",
    "    index = spotify[spotify['Title']==title].iloc[0]['id']\n",
    "    spotify.loc[spotify['id']==index, 'Title'] = title"
   ]
  },
  {
   "cell_type": "code",
   "execution_count": 5,
   "metadata": {},
   "outputs": [
    {
     "data": {
      "text/plain": [
       "263.348"
      ]
     },
     "execution_count": 5,
     "metadata": {},
     "output_type": "execute_result"
    }
   ],
   "source": [
    "(spotify['Danceability'][spotify['Date']=='2023-05-29'][:3] * spotify['Points (Ind for each Artist/Nat)'][spotify['Date']=='2023-05-29'][:3]).sum()"
   ]
  },
  {
   "cell_type": "code",
   "execution_count": 6,
   "metadata": {},
   "outputs": [],
   "source": [
    "data_dict = {}\n",
    "for col in ['Danceability', 'Energy', 'Loudness', 'Speechiness', 'Acousticness', 'Instrumentalness', 'Valence']:\n",
    "    daily_list = []\n",
    "    for date in spotify['Date'].sort_values().unique():\n",
    "        spotify_date = spotify[spotify[\"Date\"]==date]\n",
    "        daily_feature = (spotify_date[col]*spotify_date['Points (Ind for each Artist/Nat)'] / 200).sum()\n",
    "        daily_list.append(daily_feature)\n",
    "    data_dict[col] = daily_list"
   ]
  },
  {
   "cell_type": "code",
   "execution_count": 7,
   "metadata": {},
   "outputs": [
    {
     "data": {
      "text/html": [
       "<div>\n",
       "<style scoped>\n",
       "    .dataframe tbody tr th:only-of-type {\n",
       "        vertical-align: middle;\n",
       "    }\n",
       "\n",
       "    .dataframe tbody tr th {\n",
       "        vertical-align: top;\n",
       "    }\n",
       "\n",
       "    .dataframe thead th {\n",
       "        text-align: right;\n",
       "    }\n",
       "</style>\n",
       "<table border=\"1\" class=\"dataframe\">\n",
       "  <thead>\n",
       "    <tr style=\"text-align: right;\">\n",
       "      <th></th>\n",
       "      <th>Danceability</th>\n",
       "      <th>Energy</th>\n",
       "      <th>Loudness</th>\n",
       "      <th>Speechiness</th>\n",
       "      <th>Acousticness</th>\n",
       "      <th>Instrumentalness</th>\n",
       "      <th>Valence</th>\n",
       "    </tr>\n",
       "  </thead>\n",
       "  <tbody>\n",
       "    <tr>\n",
       "      <th>2017-01-01</th>\n",
       "      <td>69.377595</td>\n",
       "      <td>68.324210</td>\n",
       "      <td>-528449.376735</td>\n",
       "      <td>12.657880</td>\n",
       "      <td>18.185580</td>\n",
       "      <td>0.849185</td>\n",
       "      <td>52.479965</td>\n",
       "    </tr>\n",
       "    <tr>\n",
       "      <th>2017-01-02</th>\n",
       "      <td>68.676675</td>\n",
       "      <td>67.603040</td>\n",
       "      <td>-531479.766500</td>\n",
       "      <td>12.490530</td>\n",
       "      <td>18.928425</td>\n",
       "      <td>0.828535</td>\n",
       "      <td>50.730020</td>\n",
       "    </tr>\n",
       "    <tr>\n",
       "      <th>2017-01-03</th>\n",
       "      <td>68.670750</td>\n",
       "      <td>67.410175</td>\n",
       "      <td>-532916.107700</td>\n",
       "      <td>12.573005</td>\n",
       "      <td>18.957670</td>\n",
       "      <td>0.859855</td>\n",
       "      <td>50.528910</td>\n",
       "    </tr>\n",
       "    <tr>\n",
       "      <th>2017-01-04</th>\n",
       "      <td>68.591655</td>\n",
       "      <td>67.417870</td>\n",
       "      <td>-532262.555650</td>\n",
       "      <td>12.581075</td>\n",
       "      <td>18.929845</td>\n",
       "      <td>0.886650</td>\n",
       "      <td>50.433440</td>\n",
       "    </tr>\n",
       "    <tr>\n",
       "      <th>2017-01-05</th>\n",
       "      <td>68.640970</td>\n",
       "      <td>67.429635</td>\n",
       "      <td>-531019.541800</td>\n",
       "      <td>12.573120</td>\n",
       "      <td>19.031535</td>\n",
       "      <td>0.897255</td>\n",
       "      <td>50.396855</td>\n",
       "    </tr>\n",
       "  </tbody>\n",
       "</table>\n",
       "</div>"
      ],
      "text/plain": [
       "            Danceability     Energy       Loudness  Speechiness  Acousticness  \\\n",
       "2017-01-01     69.377595  68.324210 -528449.376735    12.657880     18.185580   \n",
       "2017-01-02     68.676675  67.603040 -531479.766500    12.490530     18.928425   \n",
       "2017-01-03     68.670750  67.410175 -532916.107700    12.573005     18.957670   \n",
       "2017-01-04     68.591655  67.417870 -532262.555650    12.581075     18.929845   \n",
       "2017-01-05     68.640970  67.429635 -531019.541800    12.573120     19.031535   \n",
       "\n",
       "            Instrumentalness    Valence  \n",
       "2017-01-01          0.849185  52.479965  \n",
       "2017-01-02          0.828535  50.730020  \n",
       "2017-01-03          0.859855  50.528910  \n",
       "2017-01-04          0.886650  50.433440  \n",
       "2017-01-05          0.897255  50.396855  "
      ]
     },
     "execution_count": 7,
     "metadata": {},
     "output_type": "execute_result"
    }
   ],
   "source": [
    "df_features_daily = pd.DataFrame(data=data_dict, index=spotify['Date'].sort_values().unique())\n",
    "df_features_daily.head()"
   ]
  },
  {
   "cell_type": "code",
   "execution_count": 12,
   "metadata": {},
   "outputs": [],
   "source": [
    "#先对数据进行归一化\n",
    "from sklearn.preprocessing import MinMaxScaler\n",
    "from sklearn.preprocessing import StandardScaler\n",
    "minmax_scaler = MinMaxScaler()\n",
    "std_scaler = StandardScaler()\n",
    "\n",
    "df_drop_loudness = df_features_daily.loc[:, ['Danceability', 'Energy', 'Speechiness',  'Loudness', 'Acousticness', 'Instrumentalness', 'Valence']]\n",
    "\n",
    "df_features_daily_scaled_minmax = minmax_scaler.fit_transform(df_drop_loudness)\n",
    "df_features_daily_scaled_std = std_scaler.fit_transform(df_drop_loudness)"
   ]
  },
  {
   "cell_type": "code",
   "execution_count": 13,
   "metadata": {},
   "outputs": [
    {
     "data": {
      "text/plain": [
       "array([[-0.31452653,  1.57472483,  1.17109307, ..., -1.30939005,\n",
       "         0.03682112,  0.38915477],\n",
       "       [-0.67254652,  1.27812768,  1.06117572, ..., -1.13369997,\n",
       "        -0.00721325, -0.2073758 ],\n",
       "       [-0.67557293,  1.19880768,  1.11534622, ..., -1.12678324,\n",
       "         0.05957399, -0.27593125],\n",
       "       ...,\n",
       "       [-1.29144272,  0.37558062, -1.55934319, ...,  0.37444933,\n",
       "         1.65987688, -0.04439341],\n",
       "       [-1.67158741,  0.11059591, -1.86695742, ...,  0.53252889,\n",
       "         2.0080043 , -0.433393  ],\n",
       "       [-1.71414863,  0.00467893, -1.7807608 , ...,  0.50651873,\n",
       "         1.83425512, -0.64576967]])"
      ]
     },
     "execution_count": 13,
     "metadata": {},
     "output_type": "execute_result"
    }
   ],
   "source": [
    "df_features_daily_scaled_std"
   ]
  },
  {
   "cell_type": "code",
   "execution_count": 14,
   "metadata": {},
   "outputs": [
    {
     "name": "stderr",
     "output_type": "stream",
     "text": [
      "D:\\APP\\Anaconda\\envs\\AML\\lib\\site-packages\\sklearn\\cluster\\_kmeans.py:1412: FutureWarning: The default value of `n_init` will change from 10 to 'auto' in 1.4. Set the value of `n_init` explicitly to suppress the warning\n",
      "  super()._check_params_vs_input(X, default_n_init=10)\n",
      "D:\\APP\\Anaconda\\envs\\AML\\lib\\site-packages\\sklearn\\cluster\\_kmeans.py:1412: FutureWarning: The default value of `n_init` will change from 10 to 'auto' in 1.4. Set the value of `n_init` explicitly to suppress the warning\n",
      "  super()._check_params_vs_input(X, default_n_init=10)\n",
      "D:\\APP\\Anaconda\\envs\\AML\\lib\\site-packages\\sklearn\\cluster\\_kmeans.py:1412: FutureWarning: The default value of `n_init` will change from 10 to 'auto' in 1.4. Set the value of `n_init` explicitly to suppress the warning\n",
      "  super()._check_params_vs_input(X, default_n_init=10)\n",
      "D:\\APP\\Anaconda\\envs\\AML\\lib\\site-packages\\sklearn\\cluster\\_kmeans.py:1412: FutureWarning: The default value of `n_init` will change from 10 to 'auto' in 1.4. Set the value of `n_init` explicitly to suppress the warning\n",
      "  super()._check_params_vs_input(X, default_n_init=10)\n",
      "D:\\APP\\Anaconda\\envs\\AML\\lib\\site-packages\\sklearn\\cluster\\_kmeans.py:1412: FutureWarning: The default value of `n_init` will change from 10 to 'auto' in 1.4. Set the value of `n_init` explicitly to suppress the warning\n",
      "  super()._check_params_vs_input(X, default_n_init=10)\n",
      "D:\\APP\\Anaconda\\envs\\AML\\lib\\site-packages\\sklearn\\cluster\\_kmeans.py:1412: FutureWarning: The default value of `n_init` will change from 10 to 'auto' in 1.4. Set the value of `n_init` explicitly to suppress the warning\n",
      "  super()._check_params_vs_input(X, default_n_init=10)\n",
      "D:\\APP\\Anaconda\\envs\\AML\\lib\\site-packages\\sklearn\\cluster\\_kmeans.py:1412: FutureWarning: The default value of `n_init` will change from 10 to 'auto' in 1.4. Set the value of `n_init` explicitly to suppress the warning\n",
      "  super()._check_params_vs_input(X, default_n_init=10)\n",
      "D:\\APP\\Anaconda\\envs\\AML\\lib\\site-packages\\sklearn\\cluster\\_kmeans.py:1412: FutureWarning: The default value of `n_init` will change from 10 to 'auto' in 1.4. Set the value of `n_init` explicitly to suppress the warning\n",
      "  super()._check_params_vs_input(X, default_n_init=10)\n",
      "D:\\APP\\Anaconda\\envs\\AML\\lib\\site-packages\\sklearn\\cluster\\_kmeans.py:1412: FutureWarning: The default value of `n_init` will change from 10 to 'auto' in 1.4. Set the value of `n_init` explicitly to suppress the warning\n",
      "  super()._check_params_vs_input(X, default_n_init=10)\n",
      "D:\\APP\\Anaconda\\envs\\AML\\lib\\site-packages\\sklearn\\cluster\\_kmeans.py:1412: FutureWarning: The default value of `n_init` will change from 10 to 'auto' in 1.4. Set the value of `n_init` explicitly to suppress the warning\n",
      "  super()._check_params_vs_input(X, default_n_init=10)\n"
     ]
    },
    {
     "data": {
      "image/png": "[encoded data removed]",
      "text/plain": [
       "<Figure size 640x480 with 1 Axes>"
      ]
     },
     "metadata": {},
     "output_type": "display_data"
    },
    {
     "name": "stderr",
     "output_type": "stream",
     "text": [
      "D:\\APP\\Anaconda\\envs\\AML\\lib\\site-packages\\sklearn\\cluster\\_kmeans.py:1412: FutureWarning: The default value of `n_init` will change from 10 to 'auto' in 1.4. Set the value of `n_init` explicitly to suppress the warning\n",
      "  super()._check_params_vs_input(X, default_n_init=10)\n",
      "D:\\APP\\Anaconda\\envs\\AML\\lib\\site-packages\\sklearn\\cluster\\_kmeans.py:1412: FutureWarning: The default value of `n_init` will change from 10 to 'auto' in 1.4. Set the value of `n_init` explicitly to suppress the warning\n",
      "  super()._check_params_vs_input(X, default_n_init=10)\n",
      "D:\\APP\\Anaconda\\envs\\AML\\lib\\site-packages\\sklearn\\cluster\\_kmeans.py:1412: FutureWarning: The default value of `n_init` will change from 10 to 'auto' in 1.4. Set the value of `n_init` explicitly to suppress the warning\n",
      "  super()._check_params_vs_input(X, default_n_init=10)\n",
      "D:\\APP\\Anaconda\\envs\\AML\\lib\\site-packages\\sklearn\\cluster\\_kmeans.py:1412: FutureWarning: The default value of `n_init` will change from 10 to 'auto' in 1.4. Set the value of `n_init` explicitly to suppress the warning\n",
      "  super()._check_params_vs_input(X, default_n_init=10)\n",
      "D:\\APP\\Anaconda\\envs\\AML\\lib\\site-packages\\sklearn\\cluster\\_kmeans.py:1412: FutureWarning: The default value of `n_init` will change from 10 to 'auto' in 1.4. Set the value of `n_init` explicitly to suppress the warning\n",
      "  super()._check_params_vs_input(X, default_n_init=10)\n",
      "D:\\APP\\Anaconda\\envs\\AML\\lib\\site-packages\\sklearn\\cluster\\_kmeans.py:1412: FutureWarning: The default value of `n_init` will change from 10 to 'auto' in 1.4. Set the value of `n_init` explicitly to suppress the warning\n",
      "  super()._check_params_vs_input(X, default_n_init=10)\n",
      "D:\\APP\\Anaconda\\envs\\AML\\lib\\site-packages\\sklearn\\cluster\\_kmeans.py:1412: FutureWarning: The default value of `n_init` will change from 10 to 'auto' in 1.4. Set the value of `n_init` explicitly to suppress the warning\n",
      "  super()._check_params_vs_input(X, default_n_init=10)\n",
      "D:\\APP\\Anaconda\\envs\\AML\\lib\\site-packages\\sklearn\\cluster\\_kmeans.py:1412: FutureWarning: The default value of `n_init` will change from 10 to 'auto' in 1.4. Set the value of `n_init` explicitly to suppress the warning\n",
      "  super()._check_params_vs_input(X, default_n_init=10)\n",
      "D:\\APP\\Anaconda\\envs\\AML\\lib\\site-packages\\sklearn\\cluster\\_kmeans.py:1412: FutureWarning: The default value of `n_init` will change from 10 to 'auto' in 1.4. Set the value of `n_init` explicitly to suppress the warning\n",
      "  super()._check_params_vs_input(X, default_n_init=10)\n",
      "D:\\APP\\Anaconda\\envs\\AML\\lib\\site-packages\\sklearn\\cluster\\_kmeans.py:1412: FutureWarning: The default value of `n_init` will change from 10 to 'auto' in 1.4. Set the value of `n_init` explicitly to suppress the warning\n",
      "  super()._check_params_vs_input(X, default_n_init=10)\n"
     ]
    },
    {
     "data": {
      "image/png": "[encoded data removed]",
      "text/plain": [
       "<Figure size 640x480 with 1 Axes>"
      ]
     },
     "metadata": {},
     "output_type": "display_data"
    }
   ],
   "source": [
    "from sklearn.cluster import KMeans\n",
    "#设置elbow函数，用于计算不同k值对应的SSE\n",
    "def elbow(data, plt_name):\n",
    "    sse = []\n",
    "    for k in range(1,11):\n",
    "        kmeans = KMeans(n_clusters=k)\n",
    "        kmeans.fit(data)\n",
    "        sse.append(kmeans.inertia_)\n",
    "    x = range(1,11)\n",
    "    plt.xlabel('K')\n",
    "    plt.ylabel('SSE')\n",
    "    plt.title(plt_name)\n",
    "    plt.plot(x,sse,'o-')\n",
    "    plt.show()\n",
    "\n",
    "#显示两种归一化方法的elbow图\n",
    "elbow(df_features_daily_scaled_minmax, plt_name='Elbow Figure with ManMinScaler')\n",
    "elbow(df_features_daily_scaled_std, plt_name='Elbow Figure with StandardScaler')"
   ]
  },
  {
   "cell_type": "code",
   "execution_count": null,
   "metadata": {},
   "outputs": [],
   "source": []
  }
 ],
 "metadata": {
  "kernelspec": {
   "display_name": "Python [conda env:AML]",
   "language": "python",
   "name": "conda-env-AML-py"
  },
  "language_info": {
   "codemirror_mode": {
    "name": "ipython",
    "version": 3
   },
   "file_extension": ".py",
   "mimetype": "text/x-python",
   "name": "python",
   "nbconvert_exporter": "python",
   "pygments_lexer": "ipython3",
   "version": "3.9.18"
  }
 },
 "nbformat": 4,
 "nbformat_minor": 4
}
