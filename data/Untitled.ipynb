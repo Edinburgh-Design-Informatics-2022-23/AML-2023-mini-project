{
 "cells": [
  {
   "cell_type": "code",
   "execution_count": 1,
   "id": "952e7170",
   "metadata": {
    "pycharm": {
     "is_executing": true,
     "name": "#%%\n"
    }
   },
   "outputs": [],
   "source": [
    "import os\n",
    "import numpy as np\n",
    "import pandas as pd\n",
    "import matplotlib.pyplot as plt\n",
    "import seaborn as sns\n",
    "from sklearn.naive_bayes import MultinomialNB\n",
    "from sklearn.linear_model import LogisticRegression\n",
    "from sklearn.metrics import accuracy_score"
   ]
  },
  {
   "cell_type": "code",
   "execution_count": 2,
   "id": "9a48e942",
   "metadata": {
    "pycharm": {
     "is_executing": true,
     "name": "#%%\n"
    }
   },
   "outputs": [
    {
     "name": "stderr",
     "output_type": "stream",
     "text": [
      "/var/folders/lw/cbxh4d5n6nj91c7dnbv6yy740000gn/T/ipykernel_72303/1837298576.py:1: DtypeWarning: Columns (0,4,5,6,7,8,9,10,16,17) have mixed types. Specify dtype option on import or set low_memory=False.\n",
      "  data = pd.read_csv('Spotify_Dataset_V3_copy.csv', on_bad_lines='skip')\n"
     ]
    },
    {
     "data": {
      "text/html": [
       "<div>\n",
       "<style scoped>\n",
       "    .dataframe tbody tr th:only-of-type {\n",
       "        vertical-align: middle;\n",
       "    }\n",
       "\n",
       "    .dataframe tbody tr th {\n",
       "        vertical-align: top;\n",
       "    }\n",
       "\n",
       "    .dataframe thead th {\n",
       "        text-align: right;\n",
       "    }\n",
       "</style>\n",
       "<table border=\"1\" class=\"dataframe\">\n",
       "  <thead>\n",
       "    <tr style=\"text-align: right;\">\n",
       "      <th></th>\n",
       "      <th></th>\n",
       "      <th></th>\n",
       "      <th></th>\n",
       "      <th></th>\n",
       "      <th></th>\n",
       "      <th></th>\n",
       "      <th></th>\n",
       "      <th></th>\n",
       "      <th></th>\n",
       "      <th></th>\n",
       "      <th></th>\n",
       "      <th></th>\n",
       "      <th></th>\n",
       "      <th></th>\n",
       "      <th></th>\n",
       "      <th></th>\n",
       "      <th></th>\n",
       "      <th></th>\n",
       "      <th>Spotify_Dataset_V3</th>\n",
       "    </tr>\n",
       "  </thead>\n",
       "  <tbody>\n",
       "    <tr>\n",
       "      <th>Rank</th>\n",
       "      <th>Title</th>\n",
       "      <th>Artists</th>\n",
       "      <th>Date</th>\n",
       "      <th>Danceability</th>\n",
       "      <th>Energy</th>\n",
       "      <th>Loudness</th>\n",
       "      <th>Speechiness</th>\n",
       "      <th>Acousticness</th>\n",
       "      <th>Instrumentalness</th>\n",
       "      <th>Valence</th>\n",
       "      <th># of Artist</th>\n",
       "      <th>Artist (Ind.)</th>\n",
       "      <th># of Nationality</th>\n",
       "      <th>Nationality</th>\n",
       "      <th>Continent</th>\n",
       "      <th>Points (Total)</th>\n",
       "      <th>Points (Ind for each Artist/Nat)</th>\n",
       "      <th>id</th>\n",
       "      <td>Song URL</td>\n",
       "    </tr>\n",
       "    <tr>\n",
       "      <th rowspan=\"2\" valign=\"top\">1</th>\n",
       "      <th rowspan=\"2\" valign=\"top\">Ella Baila Sola</th>\n",
       "      <th rowspan=\"2\" valign=\"top\">Eslabon Armado, Peso Pluma</th>\n",
       "      <th rowspan=\"2\" valign=\"top\">29/05/2023</th>\n",
       "      <th rowspan=\"2\" valign=\"top\">0.668</th>\n",
       "      <th rowspan=\"2\" valign=\"top\">0.758</th>\n",
       "      <th rowspan=\"2\" valign=\"top\">-5176.000</th>\n",
       "      <th rowspan=\"2\" valign=\"top\">0.033</th>\n",
       "      <th rowspan=\"2\" valign=\"top\">0.483</th>\n",
       "      <th rowspan=\"2\" valign=\"top\">0.000</th>\n",
       "      <th rowspan=\"2\" valign=\"top\">0.834</th>\n",
       "      <th>Artist 1</th>\n",
       "      <th>Eslabon Armado</th>\n",
       "      <th>Nationality 1</th>\n",
       "      <th>Mexico</th>\n",
       "      <th>Latin-America</th>\n",
       "      <th>200</th>\n",
       "      <th>100</th>\n",
       "      <th>3qQbCzHBycnDpGskqOWY0E</th>\n",
       "      <td>https://open.spotify.com/track/3qQbCzHBycnDpGs...</td>\n",
       "    </tr>\n",
       "    <tr>\n",
       "      <th>Artist 2</th>\n",
       "      <th>Peso Pluma</th>\n",
       "      <th>Nationality 2</th>\n",
       "      <th>Mexico</th>\n",
       "      <th>Latin-America</th>\n",
       "      <th>200</th>\n",
       "      <th>100</th>\n",
       "      <th>3qQbCzHBycnDpGskqOWY0E</th>\n",
       "      <td>https://open.spotify.com/track/3qQbCzHBycnDpGs...</td>\n",
       "    </tr>\n",
       "    <tr>\n",
       "      <th>2</th>\n",
       "      <th>WHERE SHE GOES</th>\n",
       "      <th>Bad Bunny</th>\n",
       "      <th>29/05/2023</th>\n",
       "      <th>0.652</th>\n",
       "      <th>0.800</th>\n",
       "      <th>-4019.000</th>\n",
       "      <th>0.061</th>\n",
       "      <th>0.143</th>\n",
       "      <th>0.629</th>\n",
       "      <th>0.234</th>\n",
       "      <th>Artist 1</th>\n",
       "      <th>Bad Bunny</th>\n",
       "      <th>Nationality 1</th>\n",
       "      <th>Puerto Rico</th>\n",
       "      <th>Latin-America</th>\n",
       "      <th>199</th>\n",
       "      <th>199</th>\n",
       "      <th>7ro0hRteUMfnOioTFI5TG1</th>\n",
       "      <td>https://open.spotify.com/track/7ro0hRteUMfnOio...</td>\n",
       "    </tr>\n",
       "    <tr>\n",
       "      <th>3</th>\n",
       "      <th>La Bebe - Remix</th>\n",
       "      <th>Yng Lvcas, Peso Pluma</th>\n",
       "      <th>29/05/2023</th>\n",
       "      <th>0.812</th>\n",
       "      <th>0.479</th>\n",
       "      <th>-5678.000</th>\n",
       "      <th>0.333</th>\n",
       "      <th>0.213</th>\n",
       "      <th>0.000</th>\n",
       "      <th>0.559</th>\n",
       "      <th>Artist 1</th>\n",
       "      <th>Yng Lvcas</th>\n",
       "      <th>Nationality 1</th>\n",
       "      <th>Mexico</th>\n",
       "      <th>Latin-America</th>\n",
       "      <th>198</th>\n",
       "      <th>99</th>\n",
       "      <th>2UW7JaomAMuX9pZrjVpHAU</th>\n",
       "      <td>https://open.spotify.com/track/2UW7JaomAMuX9pZ...</td>\n",
       "    </tr>\n",
       "  </tbody>\n",
       "</table>\n",
       "</div>"
      ],
      "text/plain": [
       "                                                                                                                                                                                                                                                                                                                        Spotify_Dataset_V3\n",
       "Rank Title           Artists                    Date       Danceability Energy Loudness  Speechiness Acousticness Instrumentalness Valence # of Artist Artist (Ind.)  # of Nationality Nationality Continent     Points (Total) Points (Ind for each Artist/Nat) id                                                               Song URL\n",
       "1    Ella Baila Sola Eslabon Armado, Peso Pluma 29/05/2023 0.668        0.758  -5176.000 0.033       0.483        0.000            0.834   Artist 1    Eslabon Armado Nationality 1    Mexico      Latin-America 200            100                              3qQbCzHBycnDpGskqOWY0E  https://open.spotify.com/track/3qQbCzHBycnDpGs...\n",
       "                                                                                                                                           Artist 2    Peso Pluma     Nationality 2    Mexico      Latin-America 200            100                              3qQbCzHBycnDpGskqOWY0E  https://open.spotify.com/track/3qQbCzHBycnDpGs...\n",
       "2    WHERE SHE GOES  Bad Bunny                  29/05/2023 0.652        0.800  -4019.000 0.061       0.143        0.629            0.234   Artist 1    Bad Bunny      Nationality 1    Puerto Rico Latin-America 199            199                              7ro0hRteUMfnOioTFI5TG1  https://open.spotify.com/track/7ro0hRteUMfnOio...\n",
       "3    La Bebe - Remix Yng Lvcas, Peso Pluma      29/05/2023 0.812        0.479  -5678.000 0.333       0.213        0.000            0.559   Artist 1    Yng Lvcas      Nationality 1    Mexico      Latin-America 198            99                               2UW7JaomAMuX9pZrjVpHAU  https://open.spotify.com/track/2UW7JaomAMuX9pZ..."
      ]
     },
     "execution_count": 2,
     "metadata": {},
     "output_type": "execute_result"
    }
   ],
   "source": [
    "data = pd.read_csv('Spotify_Dataset_V3_copy.csv', on_bad_lines='skip')\n",
    "data.head()"
   ]
  },
  {
   "cell_type": "code",
   "execution_count": 3,
   "id": "d6098a63",
   "metadata": {
    "pycharm": {
     "name": "#%%\n"
    }
   },
   "outputs": [
    {
     "data": {
      "text/plain": [
       "651937"
      ]
     },
     "execution_count": 3,
     "metadata": {},
     "output_type": "execute_result"
    }
   ],
   "source": [
    "data.shape[0]"
   ]
  },
  {
   "cell_type": "code",
   "execution_count": null,
   "id": "ff757b1d-fda9-4a57-b0dc-1246f608f0c7",
   "metadata": {},
   "outputs": [],
   "source": []
  }
 ],
 "metadata": {
  "kernelspec": {
   "display_name": "Python 3 (ipykernel)",
   "language": "python",
   "name": "python3"
  },
  "language_info": {
   "codemirror_mode": {
    "name": "ipython",
    "version": 3
   },
   "file_extension": ".py",
   "mimetype": "text/x-python",
   "name": "python",
   "nbconvert_exporter": "python",
   "pygments_lexer": "ipython3",
   "version": "3.11.6"
  }
 },
 "nbformat": 4,
 "nbformat_minor": 5
}
