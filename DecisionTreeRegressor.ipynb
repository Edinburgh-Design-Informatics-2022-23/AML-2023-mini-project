{
 "cells": [
  {
   "cell_type": "code",
   "execution_count": 2,
   "id": "2de1af6c",
   "metadata": {},
   "outputs": [],
   "source": [
    "import pandas as pd\n",
    "import numpy as np\n",
    "import seaborn as sns\n",
    "%matplotlib inline"
   ]
  },
  {
   "cell_type": "markdown",
   "id": "acb9cf9e",
   "metadata": {},
   "source": [
    "# Load Data and pre-processing"
   ]
  },
  {
   "cell_type": "code",
   "execution_count": 4,
   "id": "474a3566",
   "metadata": {
    "scrolled": true
   },
   "outputs": [
    {
     "data": {
      "text/html": [
       "<div>\n",
       "<style scoped>\n",
       "    .dataframe tbody tr th:only-of-type {\n",
       "        vertical-align: middle;\n",
       "    }\n",
       "\n",
       "    .dataframe tbody tr th {\n",
       "        vertical-align: top;\n",
       "    }\n",
       "\n",
       "    .dataframe thead th {\n",
       "        text-align: right;\n",
       "    }\n",
       "</style>\n",
       "<table border=\"1\" class=\"dataframe\">\n",
       "  <thead>\n",
       "    <tr style=\"text-align: right;\">\n",
       "      <th></th>\n",
       "      <th>Rank</th>\n",
       "      <th>Title</th>\n",
       "      <th>Artists</th>\n",
       "      <th>Date</th>\n",
       "      <th>Danceability</th>\n",
       "      <th>Energy</th>\n",
       "      <th>Loudness</th>\n",
       "      <th>Speechiness</th>\n",
       "      <th>Acousticness</th>\n",
       "      <th>Instrumentalness</th>\n",
       "      <th>Valence</th>\n",
       "      <th># of Artist</th>\n",
       "      <th>Artist (Ind.)</th>\n",
       "      <th># of Nationality</th>\n",
       "      <th>Nationality</th>\n",
       "      <th>Continent</th>\n",
       "      <th>Points (Total)</th>\n",
       "      <th>Points (Ind for each Artist/Nat)</th>\n",
       "      <th>id</th>\n",
       "      <th>Song URL</th>\n",
       "    </tr>\n",
       "  </thead>\n",
       "  <tbody>\n",
       "    <tr>\n",
       "      <th>0</th>\n",
       "      <td>1</td>\n",
       "      <td>Ella Baila Sola</td>\n",
       "      <td>Eslabon Armado, Peso Pluma</td>\n",
       "      <td>2023-05-29</td>\n",
       "      <td>0.668</td>\n",
       "      <td>0.758</td>\n",
       "      <td>-5176.0</td>\n",
       "      <td>0.033</td>\n",
       "      <td>0.483</td>\n",
       "      <td>0.000</td>\n",
       "      <td>0.834</td>\n",
       "      <td>Artist 1</td>\n",
       "      <td>Eslabon Armado</td>\n",
       "      <td>Nationality 1</td>\n",
       "      <td>Mexico</td>\n",
       "      <td>Latin-America</td>\n",
       "      <td>200</td>\n",
       "      <td>100.0</td>\n",
       "      <td>3qQbCzHBycnDpGskqOWY0E</td>\n",
       "      <td>https://open.spotify.com/track/3qQbCzHBycnDpGs...</td>\n",
       "    </tr>\n",
       "    <tr>\n",
       "      <th>1</th>\n",
       "      <td>1</td>\n",
       "      <td>Ella Baila Sola</td>\n",
       "      <td>Eslabon Armado, Peso Pluma</td>\n",
       "      <td>2023-05-29</td>\n",
       "      <td>0.668</td>\n",
       "      <td>0.758</td>\n",
       "      <td>-5176.0</td>\n",
       "      <td>0.033</td>\n",
       "      <td>0.483</td>\n",
       "      <td>0.000</td>\n",
       "      <td>0.834</td>\n",
       "      <td>Artist 2</td>\n",
       "      <td>Peso Pluma</td>\n",
       "      <td>Nationality 2</td>\n",
       "      <td>Mexico</td>\n",
       "      <td>Latin-America</td>\n",
       "      <td>200</td>\n",
       "      <td>100.0</td>\n",
       "      <td>3qQbCzHBycnDpGskqOWY0E</td>\n",
       "      <td>https://open.spotify.com/track/3qQbCzHBycnDpGs...</td>\n",
       "    </tr>\n",
       "    <tr>\n",
       "      <th>2</th>\n",
       "      <td>2</td>\n",
       "      <td>WHERE SHE GOES</td>\n",
       "      <td>Bad Bunny</td>\n",
       "      <td>2023-05-29</td>\n",
       "      <td>0.652</td>\n",
       "      <td>0.800</td>\n",
       "      <td>-4019.0</td>\n",
       "      <td>0.061</td>\n",
       "      <td>0.143</td>\n",
       "      <td>0.629</td>\n",
       "      <td>0.234</td>\n",
       "      <td>Artist 1</td>\n",
       "      <td>Bad Bunny</td>\n",
       "      <td>Nationality 1</td>\n",
       "      <td>Puerto Rico</td>\n",
       "      <td>Latin-America</td>\n",
       "      <td>199</td>\n",
       "      <td>199.0</td>\n",
       "      <td>7ro0hRteUMfnOioTFI5TG1</td>\n",
       "      <td>https://open.spotify.com/track/7ro0hRteUMfnOio...</td>\n",
       "    </tr>\n",
       "    <tr>\n",
       "      <th>3</th>\n",
       "      <td>3</td>\n",
       "      <td>La Bebe - Remix</td>\n",
       "      <td>Yng Lvcas, Peso Pluma</td>\n",
       "      <td>2023-05-29</td>\n",
       "      <td>0.812</td>\n",
       "      <td>0.479</td>\n",
       "      <td>-5678.0</td>\n",
       "      <td>0.333</td>\n",
       "      <td>0.213</td>\n",
       "      <td>0.000</td>\n",
       "      <td>0.559</td>\n",
       "      <td>Artist 1</td>\n",
       "      <td>Yng Lvcas</td>\n",
       "      <td>Nationality 1</td>\n",
       "      <td>Mexico</td>\n",
       "      <td>Latin-America</td>\n",
       "      <td>198</td>\n",
       "      <td>99.0</td>\n",
       "      <td>2UW7JaomAMuX9pZrjVpHAU</td>\n",
       "      <td>https://open.spotify.com/track/2UW7JaomAMuX9pZ...</td>\n",
       "    </tr>\n",
       "    <tr>\n",
       "      <th>4</th>\n",
       "      <td>3</td>\n",
       "      <td>La Bebe - Remix</td>\n",
       "      <td>Yng Lvcas, Peso Pluma</td>\n",
       "      <td>2023-05-29</td>\n",
       "      <td>0.812</td>\n",
       "      <td>0.479</td>\n",
       "      <td>-5678.0</td>\n",
       "      <td>0.333</td>\n",
       "      <td>0.213</td>\n",
       "      <td>0.000</td>\n",
       "      <td>0.559</td>\n",
       "      <td>Artist 2</td>\n",
       "      <td>Peso Pluma</td>\n",
       "      <td>Nationality 2</td>\n",
       "      <td>Mexico</td>\n",
       "      <td>Latin-America</td>\n",
       "      <td>198</td>\n",
       "      <td>99.0</td>\n",
       "      <td>2UW7JaomAMuX9pZrjVpHAU</td>\n",
       "      <td>https://open.spotify.com/track/2UW7JaomAMuX9pZ...</td>\n",
       "    </tr>\n",
       "  </tbody>\n",
       "</table>\n",
       "</div>"
      ],
      "text/plain": [
       "   Rank            Title                     Artists       Date  Danceability  \\\n",
       "0     1  Ella Baila Sola  Eslabon Armado, Peso Pluma 2023-05-29         0.668   \n",
       "1     1  Ella Baila Sola  Eslabon Armado, Peso Pluma 2023-05-29         0.668   \n",
       "2     2   WHERE SHE GOES                   Bad Bunny 2023-05-29         0.652   \n",
       "3     3  La Bebe - Remix       Yng Lvcas, Peso Pluma 2023-05-29         0.812   \n",
       "4     3  La Bebe - Remix       Yng Lvcas, Peso Pluma 2023-05-29         0.812   \n",
       "\n",
       "   Energy  Loudness  Speechiness  Acousticness  Instrumentalness  Valence  \\\n",
       "0   0.758   -5176.0        0.033         0.483             0.000    0.834   \n",
       "1   0.758   -5176.0        0.033         0.483             0.000    0.834   \n",
       "2   0.800   -4019.0        0.061         0.143             0.629    0.234   \n",
       "3   0.479   -5678.0        0.333         0.213             0.000    0.559   \n",
       "4   0.479   -5678.0        0.333         0.213             0.000    0.559   \n",
       "\n",
       "  # of Artist   Artist (Ind.) # of Nationality  Nationality      Continent  \\\n",
       "0    Artist 1  Eslabon Armado    Nationality 1       Mexico  Latin-America   \n",
       "1    Artist 2      Peso Pluma    Nationality 2       Mexico  Latin-America   \n",
       "2    Artist 1       Bad Bunny    Nationality 1  Puerto Rico  Latin-America   \n",
       "3    Artist 1       Yng Lvcas    Nationality 1       Mexico  Latin-America   \n",
       "4    Artist 2      Peso Pluma    Nationality 2       Mexico  Latin-America   \n",
       "\n",
       "   Points (Total)  Points (Ind for each Artist/Nat)                      id  \\\n",
       "0             200                             100.0  3qQbCzHBycnDpGskqOWY0E   \n",
       "1             200                             100.0  3qQbCzHBycnDpGskqOWY0E   \n",
       "2             199                             199.0  7ro0hRteUMfnOioTFI5TG1   \n",
       "3             198                              99.0  2UW7JaomAMuX9pZrjVpHAU   \n",
       "4             198                              99.0  2UW7JaomAMuX9pZrjVpHAU   \n",
       "\n",
       "                                            Song URL  \n",
       "0  https://open.spotify.com/track/3qQbCzHBycnDpGs...  \n",
       "1  https://open.spotify.com/track/3qQbCzHBycnDpGs...  \n",
       "2  https://open.spotify.com/track/7ro0hRteUMfnOio...  \n",
       "3  https://open.spotify.com/track/2UW7JaomAMuX9pZ...  \n",
       "4  https://open.spotify.com/track/2UW7JaomAMuX9pZ...  "
      ]
     },
     "execution_count": 4,
     "metadata": {},
     "output_type": "execute_result"
    }
   ],
   "source": [
    "spotify = pd.read_csv('./data/spotify_data/Spotify_Dataset_V3.csv', sep=';', parse_dates=['Date'], dayfirst=True)\n",
    "spotify.head()"
   ]
  },
  {
   "cell_type": "code",
   "execution_count": 5,
   "id": "12acfa93",
   "metadata": {},
   "outputs": [
    {
     "name": "stdout",
     "output_type": "stream",
     "text": [
      "(651936, 20)\n",
      "Index(['Rank', 'Title', 'Artists', 'Date', 'Danceability', 'Energy',\n",
      "       'Loudness', 'Speechiness', 'Acousticness', 'Instrumentalness',\n",
      "       'Valence', '# of Artist', 'Artist (Ind.)', '# of Nationality',\n",
      "       'Nationality', 'Continent', 'Points (Total)',\n",
      "       'Points (Ind for each Artist/Nat)', 'id', 'Song URL'],\n",
      "      dtype='object')\n"
     ]
    }
   ],
   "source": [
    "print(spotify.shape)\n",
    "print(spotify.columns)"
   ]
  },
  {
   "cell_type": "markdown",
   "id": "89d6219a",
   "metadata": {},
   "source": [
    "## Data Cleaning"
   ]
  },
  {
   "cell_type": "code",
   "execution_count": 6,
   "id": "16f37122",
   "metadata": {},
   "outputs": [
    {
     "name": "stdout",
     "output_type": "stream",
     "text": [
      "39\n"
     ]
    }
   ],
   "source": [
    "df1 = spotify[['Title', 'id']].drop_duplicates()\n",
    "df2 =spotify[['Title', 'id']].drop_duplicates(subset=['id'])\n",
    "Title1 = df1['Title'].values\n",
    "Title2 = df2['Title'].values\n",
    "dirty_data = np.setdiff1d(Title1, Title2, assume_unique=False)\n",
    "print(len(dirty_data))\n",
    "\n",
    "for title in dirty_data:\n",
    "    index = spotify[spotify['Title']==title].iloc[0]['id']\n",
    "    spotify.loc[spotify['id']==index, 'Title'] = title"
   ]
  },
  {
   "cell_type": "markdown",
   "id": "fe9cae1d",
   "metadata": {},
   "source": [
    "# Explore the relationship among features associated with tracks and the points"
   ]
  },
  {
   "cell_type": "code",
   "execution_count": 11,
   "id": "bf0fd854",
   "metadata": {},
   "outputs": [],
   "source": [
    "from sklearn.linear_model import LinearRegression\n",
    "from sklearn.preprocessing import StandardScaler,  OneHotEncoder\n",
    "from sklearn.compose import make_column_transformer, make_column_selector\n",
    "from sklearn.model_selection import train_test_split\n",
    "from sklearn.metrics import mean_absolute_error"
   ]
  },
  {
   "cell_type": "code",
   "execution_count": 12,
   "id": "6718b7c0",
   "metadata": {},
   "outputs": [
    {
     "data": {
      "text/html": [
       "<div>\n",
       "<style scoped>\n",
       "    .dataframe tbody tr th:only-of-type {\n",
       "        vertical-align: middle;\n",
       "    }\n",
       "\n",
       "    .dataframe tbody tr th {\n",
       "        vertical-align: top;\n",
       "    }\n",
       "\n",
       "    .dataframe thead th {\n",
       "        text-align: right;\n",
       "    }\n",
       "</style>\n",
       "<table border=\"1\" class=\"dataframe\">\n",
       "  <thead>\n",
       "    <tr style=\"text-align: right;\">\n",
       "      <th></th>\n",
       "      <th>Danceability</th>\n",
       "      <th>Energy</th>\n",
       "      <th>Loudness</th>\n",
       "      <th>Speechiness</th>\n",
       "      <th>Acousticness</th>\n",
       "      <th>Instrumentalness</th>\n",
       "      <th>Valence</th>\n",
       "      <th>Points (Total)</th>\n",
       "    </tr>\n",
       "  </thead>\n",
       "  <tbody>\n",
       "    <tr>\n",
       "      <th>555508</th>\n",
       "      <td>0.620</td>\n",
       "      <td>0.574</td>\n",
       "      <td>-7788.0</td>\n",
       "      <td>0.048</td>\n",
       "      <td>0.569</td>\n",
       "      <td>0.0</td>\n",
       "      <td>0.357</td>\n",
       "      <td>167</td>\n",
       "    </tr>\n",
       "    <tr>\n",
       "      <th>555509</th>\n",
       "      <td>0.620</td>\n",
       "      <td>0.574</td>\n",
       "      <td>-7788.0</td>\n",
       "      <td>0.048</td>\n",
       "      <td>0.569</td>\n",
       "      <td>0.0</td>\n",
       "      <td>0.357</td>\n",
       "      <td>167</td>\n",
       "    </tr>\n",
       "    <tr>\n",
       "      <th>555510</th>\n",
       "      <td>0.620</td>\n",
       "      <td>0.574</td>\n",
       "      <td>-7788.0</td>\n",
       "      <td>0.048</td>\n",
       "      <td>0.569</td>\n",
       "      <td>0.0</td>\n",
       "      <td>0.357</td>\n",
       "      <td>167</td>\n",
       "    </tr>\n",
       "    <tr>\n",
       "      <th>555511</th>\n",
       "      <td>0.818</td>\n",
       "      <td>0.803</td>\n",
       "      <td>-4282.0</td>\n",
       "      <td>0.080</td>\n",
       "      <td>0.034</td>\n",
       "      <td>0.0</td>\n",
       "      <td>0.632</td>\n",
       "      <td>44</td>\n",
       "    </tr>\n",
       "    <tr>\n",
       "      <th>555512</th>\n",
       "      <td>0.548</td>\n",
       "      <td>0.650</td>\n",
       "      <td>-5827.0</td>\n",
       "      <td>0.059</td>\n",
       "      <td>0.219</td>\n",
       "      <td>0.0</td>\n",
       "      <td>0.557</td>\n",
       "      <td>74</td>\n",
       "    </tr>\n",
       "  </tbody>\n",
       "</table>\n",
       "</div>"
      ],
      "text/plain": [
       "        Danceability  Energy  Loudness  Speechiness  Acousticness  \\\n",
       "555508         0.620   0.574   -7788.0        0.048         0.569   \n",
       "555509         0.620   0.574   -7788.0        0.048         0.569   \n",
       "555510         0.620   0.574   -7788.0        0.048         0.569   \n",
       "555511         0.818   0.803   -4282.0        0.080         0.034   \n",
       "555512         0.548   0.650   -5827.0        0.059         0.219   \n",
       "\n",
       "        Instrumentalness  Valence  Points (Total)  \n",
       "555508               0.0    0.357             167  \n",
       "555509               0.0    0.357             167  \n",
       "555510               0.0    0.357             167  \n",
       "555511               0.0    0.632              44  \n",
       "555512               0.0    0.557              74  "
      ]
     },
     "execution_count": 12,
     "metadata": {},
     "output_type": "execute_result"
    }
   ],
   "source": [
    "selected_columns = ['Danceability', 'Energy', 'Loudness', 'Speechiness', 'Acousticness', 'Instrumentalness', 'Valence', 'Points (Total)']\n",
    "df = spotify[(spotify['Date']>='2017-01-01') & (spotify['Date']<'2018-01-01')][selected_columns]\n",
    "df.head()"
   ]
  },
  {
   "cell_type": "code",
   "execution_count": 15,
   "id": "f5bb2793",
   "metadata": {},
   "outputs": [],
   "source": [
    "X = df.drop('Points (Total)', axis=1)\n",
    "y = df['Points (Total)']\n",
    "\n",
    "X_train,X_val,y_train,y_val=train_test_split(X,y,test_size=0.3,random_state=0)\n",
    "\n",
    "preprocessor = make_column_transformer(\n",
    "    (StandardScaler(),\n",
    "    make_column_selector(dtype_include=np.number)),\n",
    ")\n",
    "\n",
    "X_train_std = preprocessor.fit_transform(X_train)\n",
    "X_val =  preprocessor.transform(X_val)"
   ]
  },
  {
   "cell_type": "markdown",
   "id": "a81c5030",
   "metadata": {},
   "source": [
    "## Baseline -- should better than this"
   ]
  },
  {
   "cell_type": "code",
   "execution_count": 14,
   "id": "b7363a36",
   "metadata": {},
   "outputs": [
    {
     "name": "stdout",
     "output_type": "stream",
     "text": [
      "MAE: 49.98019288603132\n"
     ]
    }
   ],
   "source": [
    "# median_array = np.full_like(y_val, np.median(y_train))\n",
    "\n",
    "# print(\"MAE: {}\".format(mean_absolute_error(y_val, median_array)))"
   ]
  },
  {
   "cell_type": "code",
   "execution_count": 16,
   "id": "93cf462a",
   "metadata": {},
   "outputs": [],
   "source": [
    "def cal_mae(y_test, y_pred):\n",
    "    print(\"MAE: {}\".format(mean_absolute_error(y_test, y_pred)))"
   ]
  },
  {
   "cell_type": "markdown",
   "id": "5d3bd817",
   "metadata": {},
   "source": [
    "## DecisionTreeRegression"
   ]
  },
  {
   "cell_type": "code",
   "execution_count": 18,
   "id": "557af82f",
   "metadata": {
    "scrolled": true
   },
   "outputs": [
    {
     "name": "stdout",
     "output_type": "stream",
     "text": [
      "MAE: 30.684709959018967\n"
     ]
    }
   ],
   "source": [
    "from sklearn.tree import DecisionTreeRegressor\n",
    "\n",
    "clf = DecisionTreeRegressor(random_state=0).fit(X_train_std, y_train)\n",
    "preds = clf.predict(X_val)\n",
    "\n",
    "cal_mae(y_val, preds)"
   ]
  },
  {
   "cell_type": "markdown",
   "id": "753bfff1",
   "metadata": {},
   "source": [
    "### Take Date_Interval and Nationality into consider"
   ]
  },
  {
   "cell_type": "markdown",
   "id": "4e257807",
   "metadata": {},
   "source": [
    "#### Pre-processing"
   ]
  },
  {
   "cell_type": "code",
   "execution_count": 19,
   "id": "01a0acb6",
   "metadata": {},
   "outputs": [],
   "source": [
    "selected_columns = ['id', 'Danceability', 'Energy', 'Loudness', 'Speechiness', 'Acousticness', 'Instrumentalness', 'Valence', 'Nationality', 'Date', 'Points (Total)']\n",
    "df = spotify[(spotify['Date']>='2017-01-01') & (spotify['Date']<'2018-01-01')][selected_columns]\n",
    "df.head()\n",
    "\n",
    "for idx in df['id'].unique():\n",
    "    df.loc[spotify['id']==idx, 'Date_Interval'] = df[df['id']==idx]['Date'] - df[df['id']==idx]['Date'].min()\n",
    "    \n",
    "df['Date_Interval_num'] = df['Date_Interval'].dt.days"
   ]
  },
  {
   "cell_type": "code",
   "execution_count": 20,
   "id": "a9c25533",
   "metadata": {},
   "outputs": [],
   "source": [
    "X = df.drop(['id','Points (Total)', 'Date_Interval'], axis=1)\n",
    "y = df['Points (Total)']\n",
    "\n",
    "X_train,X_val,y_train,y_val=train_test_split(X,y,test_size=0.3,random_state=0)\n",
    "\n",
    "preprocessor = make_column_transformer(\n",
    "    (StandardScaler(),\n",
    "    make_column_selector(dtype_include=np.number)),\n",
    "    (OneHotEncoder(sparse_output=False),\n",
    "    make_column_selector(dtype_include=object))\n",
    ")\n",
    "\n",
    "X_train_std = preprocessor.fit_transform(X_train)\n",
    "X_val =  preprocessor.transform(X_val)"
   ]
  },
  {
   "cell_type": "markdown",
   "id": "4d05dc61",
   "metadata": {},
   "source": [
    "#### Models"
   ]
  },
  {
   "cell_type": "code",
   "execution_count": 21,
   "id": "27d76ad4",
   "metadata": {},
   "outputs": [
    {
     "name": "stdout",
     "output_type": "stream",
     "text": [
      "MAE: 5.5795153652044664\n"
     ]
    }
   ],
   "source": [
    "clf = DecisionTreeRegressor(random_state=0).fit(X_train_std, y_train)\n",
    "preds = clf.predict(X_val)\n",
    "\n",
    "cal_mae(y_val, preds)"
   ]
  }
 ],
 "metadata": {
  "kernelspec": {
   "display_name": "Python [conda env:AML]",
   "language": "python",
   "name": "conda-env-AML-py"
  },
  "language_info": {
   "codemirror_mode": {
    "name": "ipython",
    "version": 3
   },
   "file_extension": ".py",
   "mimetype": "text/x-python",
   "name": "python",
   "nbconvert_exporter": "python",
   "pygments_lexer": "ipython3",
   "version": "3.9.18"
  }
 },
 "nbformat": 4,
 "nbformat_minor": 5
}
